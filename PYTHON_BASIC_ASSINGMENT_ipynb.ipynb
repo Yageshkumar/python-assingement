{
  "cells": [
    {
      "cell_type": "code",
      "execution_count": null,
      "metadata": {
        "id": "5F0qrFzgeFiR"
      },
      "outputs": [],
      "source": []
    },
    {
      "cell_type": "markdown",
      "metadata": {
        "id": "iEeQQMcAmAqw"
      },
      "source": [
        "###Python Basics Questions"
      ]
    },
    {
      "cell_type": "markdown",
      "metadata": {
        "id": "Rj2Ku3B1eIv0"
      },
      "source": [
        "1. What is Python, and why is it popular?\n",
        "    *  Python is a programming language that is easy to understand and write, making it a popular choice among developers and programmers. It is compatible with various programming paradigms, such as procedural, object-oriented, and functional programming.Python has a large and active community of developers, an extensive standard library, and third-party packages for various domains.\n",
        "\n",
        "2. What is an interpreter in Python?\n",
        "  * An interpreter in Python is a program that reads and executes Python code line by line without the need for prior compilation into machine code.\n",
        "\n",
        "3. What are pre-defined keywords in Python?\n",
        " * Pre-defined keywords in Python are special, reserved words that have specific meanings and purposes within the language. They are integral to Python's syntax and structure, and thus cannot be used as identifiers for variables, functions, classes, or any other user-defined entities.\n",
        "\n",
        "4. Can keywords be used as variable names?\n",
        " * No, keywords cannot be used as variable names. Keywords are reserved words in a programming language that have predefined meanings and are used to define the language's syntax and structure. Using them as variable names would lead to syntax errors because the compiler or interpreter would interpret them as language keywords rather than variable names.\n",
        "\n",
        "5. What is mutability in Python?\n",
        "   * Mutability in Python refers to the ability of an object's state or content to be changed after it has been created.\n",
        "\n",
        "6. Why are lists mutable, but tuples are immutable?\n",
        "   * The main difference between a tuple and a list in Python is that tuples are immutable, while lists are mutable. This means that you can modify a list by adding, removing, or changing elements, but you cannot do the same with a tuple.\n",
        "\n",
        "7. What is the difference between “==” and “is” operators in Python?\n",
        "  * The == operator compares the value or equality of two objects, whereas the Python is operator checks whether two variables point to the same object in memory.\n",
        "\n",
        "8.  What are logical operators in Python?\n",
        "   * Logical operators in Python are used to combine conditional statements and evaluate expressions based on their truth values (True or False). They are also known as Boolean operators because they operate on Boolean values and return a Boolean result.\n",
        "9. What is type casting in Python?\n",
        "  * Type casting in Python, also known as explicit type conversion, is the process of manually converting a value from one data type to another using built-in functions. This differs from implicit type conversion, where the Python interpreter automatically handles the conversion.\n",
        "\n",
        "10. What is the difference between implicit and explicit type casting?   \n",
        "   * Implicit and explicit type casting differ in how they handle the conversion of data types. Implicit casting, also called automatic type conversion, is done automatically by the compiler when different data types are mixed in an expression. Explicit casting, or type casting, is performed manually by the programmer by explicitly specifying the desired data type.\n",
        "\n",
        "11. What is the purpose of conditional statements in Python?\n",
        "    * The purpose of conditional statements in Python is to enable decision-making within a program, allowing different blocks of code to be executed based on whether specific conditions are true or false. They control the flow of execution, making programs dynamic and responsive to varying inputs or scenarios.\n",
        "\n",
        "12.How does the elif statement work?\n",
        "  * The “elif” keyword in Python, stands for “else if”. It can be used in conditional statements to check for multiple conditions. For example, if the first condition is false, it moves on to the next “elif” statement to check if that condition is true.\n",
        "\n",
        "13.What is the difference between for and while loops?\n",
        "  * The main difference between for and while loops lies in their intended use cases: for loops are typically used when you know the number of iterations beforehand, while while loops are used when the number of iterations is determined by a condition.\n",
        "\n",
        "14.Describe a scenario where a while loop is more suitable than a for loop.\n",
        "  * In programming, for loops are best used when you know the number of iterations ahead of time, whereas a while loop is best used when you don't know the number of iterations in advance. Both methods can help you iterate through your code.\n",
        "\n",
        "\n",
        "\n",
        "\n",
        "\n",
        "\n",
        "\n",
        "\n",
        "\n",
        "\n",
        "\n",
        "\n",
        "\n",
        "\n",
        "\n",
        "\n",
        "\n",
        "\n",
        "\n",
        "\n",
        "\n",
        "\n"
      ]
    },
    {
      "cell_type": "markdown",
      "metadata": {
        "id": "c-xUV5Jnmrkk"
      },
      "source": [
        "###Practical Questions\n"
      ]
    },
    {
      "cell_type": "code",
      "execution_count": null,
      "metadata": {
        "id": "3R9JG31pm1MO"
      },
      "outputs": [],
      "source": []
    },
    {
      "cell_type": "markdown",
      "metadata": {
        "id": "it0SGKo3m6AV"
      },
      "source": [
        "1. Write a Python program to print \"Hello, World!\""
      ]
    },
    {
      "cell_type": "code",
      "execution_count": null,
      "metadata": {
        "id": "LVbqC8hFnFH4"
      },
      "outputs": [],
      "source": []
    },
    {
      "cell_type": "code",
      "execution_count": null,
      "metadata": {
        "colab": {
          "base_uri": "https://localhost:8080/"
        },
        "id": "13442907",
        "outputId": "6ed7800e-eb83-41fe-f0d1-56a27fde3ec4"
      },
      "outputs": [
        {
          "name": "stdout",
          "output_type": "stream",
          "text": [
            "Hello, World!\n"
          ]
        }
      ],
      "source": [
        "print(\"Hello, World!\")"
      ]
    },
    {
      "cell_type": "markdown",
      "metadata": {
        "id": "IGQrpOYxnYj_"
      },
      "source": [
        "2.Write a Python program that displays your name and age.\n"
      ]
    },
    {
      "cell_type": "code",
      "execution_count": null,
      "metadata": {
        "colab": {
          "base_uri": "https://localhost:8080/"
        },
        "id": "R4t31tbYn1ZZ",
        "outputId": "9de1f20d-dd40-4b16-809e-11404f63196c"
      },
      "outputs": [
        {
          "name": "stdout",
          "output_type": "stream",
          "text": [
            "Hello, Yagesh! I am 26 years old.\n"
          ]
        }
      ],
      "source": [
        "name = (\"Yagesh\")\n",
        "age = (\"26\")\n",
        "\n",
        "print(f\"Hello, {name}! I am {age} years old.\")\n"
      ]
    },
    {
      "cell_type": "markdown",
      "metadata": {
        "id": "1Alf9qnIo9Uy"
      },
      "source": [
        "3. Write code to print all the pre-defined keywords in Python using the keyword library."
      ]
    },
    {
      "cell_type": "code",
      "execution_count": null,
      "metadata": {
        "colab": {
          "base_uri": "https://localhost:8080/"
        },
        "id": "F5OW-DlIpAuk",
        "outputId": "01f7fb69-b960-4b47-dcf0-e2bf642fa10c"
      },
      "outputs": [
        {
          "name": "stdout",
          "output_type": "stream",
          "text": [
            "['False', 'None', 'True', 'and', 'as', 'assert', 'async', 'await', 'break', 'class', 'continue', 'def', 'del', 'elif', 'else', 'except', 'finally', 'for', 'from', 'global', 'if', 'import', 'in', 'is', 'lambda', 'nonlocal', 'not', 'or', 'pass', 'raise', 'return', 'try', 'while', 'with', 'yield']\n"
          ]
        }
      ],
      "source": [
        "import keyword\n",
        "print(keyword.kwlist)"
      ]
    },
    {
      "cell_type": "markdown",
      "metadata": {
        "id": "M29rNwP_Z7nl"
      },
      "source": [
        "   4.Write a program that checks if a given word is apython keyword."
      ]
    },
    {
      "cell_type": "code",
      "execution_count": null,
      "metadata": {
        "colab": {
          "base_uri": "https://localhost:8080/"
        },
        "id": "1df8cbeb",
        "outputId": "a5238354-5bbf-413d-f626-dc2d9f45f123"
      },
      "outputs": [
        {
          "name": "stdout",
          "output_type": "stream",
          "text": [
            "'for' is a Python keyword.\n",
            "'my_variable' is not a Python keyword.\n"
          ]
        }
      ],
      "source": [
        "import keyword\n",
        "\n",
        "def is_python_keyword(word):\n",
        "  \"\"\"Checks if a given word is a Python keyword.\"\"\"\n",
        "  return keyword.iskeyword(word)\n",
        "\n",
        "word_to_check = \"for\"\n",
        "if is_python_keyword(word_to_check):\n",
        "  print(f\"'{word_to_check}' is a Python keyword.\")\n",
        "else:\n",
        "  print(f\"'{word_to_check}' is not a Python keyword.\")\n",
        "\n",
        "word_to_check = \"my_variable\"\n",
        "if is_python_keyword(word_to_check):\n",
        "  print(f\"'{word_to_check}' is a Python keyword.\")\n",
        "else:\n",
        "  print(f\"'{word_to_check}' is not a Python keyword.\")"
      ]
    },
    {
      "cell_type": "markdown",
      "metadata": {
        "id": "fMVsH4r1bt4L"
      },
      "source": [
        "5. Create a list and tuple in Python, and demonstrate how attempting to change an element works differently\n",
        "for each."
      ]
    },
    {
      "cell_type": "code",
      "execution_count": null,
      "metadata": {
        "colab": {
          "base_uri": "https://localhost:8080/"
        },
        "id": "9fcf7fb3",
        "outputId": "dda4554e-9b77-4d8c-ac7b-ad7dbe9c4e04"
      },
      "outputs": [
        {
          "name": "stdout",
          "output_type": "stream",
          "text": [
            "Original list: [1, 2, 3, 4]\n",
            "Original tuple: (1, 2, 3, 4)\n",
            "\n",
            "Attempting to change an element in the list:\n",
            "Modified list: [10, 2, 3, 4]\n",
            "\n",
            "Attempting to change an element in the tuple:\n",
            "Error: 'tuple' object does not support item assignment\n"
          ]
        }
      ],
      "source": [
        "# Create a list and a tuple\n",
        "my_list = [1, 2, 3, 4]\n",
        "my_tuple = (1, 2, 3, 4)\n",
        "\n",
        "print(\"Original list:\", my_list)\n",
        "print(\"Original tuple:\", my_tuple)\n",
        "\n",
        "# Attempt to change an element in the list\n",
        "print(\"\\nAttempting to change an element in the list:\")\n",
        "my_list[0] = 10\n",
        "print(\"Modified list:\", my_list)\n",
        "\n",
        "# Attempt to change an element in the tuple\n",
        "print(\"\\nAttempting to change an element in the tuple:\")\n",
        "try:\n",
        "  my_tuple[0] = 10\n",
        "except TypeError as e:\n",
        "  print(\"Error:\", e)"
      ]
    },
    {
      "cell_type": "code",
      "execution_count": null,
      "metadata": {
        "colab": {
          "base_uri": "https://localhost:8080/"
        },
        "id": "8dd1f7f6",
        "outputId": "38247ca1-dbf5-49a9-dac0-39641bddfd1d"
      },
      "outputs": [
        {
          "name": "stdout",
          "output_type": "stream",
          "text": [
            "Outside function (before function call):\n",
            "  my_list: [1, 2, 3, 4]\n",
            "  my_int: 10\n",
            "Inside function (before modification):\n",
            "  mutable_list: [1, 2, 3, 4]\n",
            "  immutable_int: 10\n",
            "Inside function (after modification):\n",
            "  mutable_list: [1, 2, 3, 4, 5]\n",
            "  immutable_int: 11\n",
            "Outside function (after function call):\n",
            "  my_list: [1, 2, 3, 4, 5]\n",
            "  my_int: 10\n"
          ]
        }
      ],
      "source": [
        "\n",
        "  print(\"Inside function (before modification):\")\n",
        "  print(\"  mutable_list:\", mutable_list)\n",
        "  print(\"  immutable_int:\", immutable_int)\n",
        "\n",
        "  # Modify the mutable list\n",
        "  mutable_list.append(5)\n",
        "\n",
        "  # Attempt to modify the immutable integer (this creates a new object)\n",
        "  immutable_int = immutable_int + 1\n",
        "\n",
        "  print(\"Inside function (after modification):\")\n",
        "  print(\"  mutable_list:\", mutable_list)\n",
        "  print(\"  immutable_int:\", immutable_int)\n",
        "\n",
        "# Create variables to pass to the function\n",
        "my_list = [1, 2, 3, 4]\n",
        "my_int = 10\n",
        "\n",
        "print(\"Outside function (before function call):\")\n",
        "print(\"  my_list:\", my_list)\n",
        "print(\"  my_int:\", my_int)\n",
        "\n",
        "# Call the function\n",
        "modify_arguments(my_list, my_int)\n",
        "\n",
        "print(\"Outside function (after function call):\")\n",
        "print(\"  my_list:\", my_list)\n",
        "print(\"  my_int:\", my_int)"
      ]
    },
    {
      "cell_type": "markdown",
      "metadata": {
        "id": "yk__5cT-cuN3"
      },
      "source": [
        "6.Write a function to demonstrate the behavior of mutable and immutable arguments."
      ]
    },
    {
      "cell_type": "code",
      "execution_count": null,
      "metadata": {
        "id": "Dw3wtchQTbFm"
      },
      "outputs": [],
      "source": []
    },
    {
      "cell_type": "code",
      "execution_count": 1,
      "metadata": {
        "colab": {
          "base_uri": "https://localhost:8080/"
        },
        "id": "47cec7f4",
        "outputId": "4f9fc449-583e-4bdb-8d33-0ce516d23421"
      },
      "outputs": [
        {
          "name": "stdout",
          "output_type": "stream",
          "text": [
            "Outside function (before function call):\n",
            "  my_list: [1, 2, 3, 4]\n",
            "  my_int: 10\n",
            "Inside function (before modification):\n",
            "  mutable_list: [1, 2, 3, 4]\n",
            "  immutable_int: 10\n",
            "Inside function (after modification):\n",
            "  mutable_list: [1, 2, 3, 4, 5]\n",
            "  immutable_int: 11\n",
            "Outside function (after function call):\n",
            "  my_list: [1, 2, 3, 4, 5]\n",
            "  my_int: 10\n"
          ]
        }
      ],
      "source": [
        "def modify_arguments(mutable_list, immutable_int):\n",
        "  \"\"\"Demonstrates the behavior of mutable and immutable arguments.\"\"\"\n",
        "\n",
        "  print(\"Inside function (before modification):\")\n",
        "  print(\"  mutable_list:\", mutable_list)\n",
        "  print(\"  immutable_int:\", immutable_int)\n",
        "\n",
        "  # Modify the mutable list\n",
        "  mutable_list.append(5)\n",
        "\n",
        "  # Attempt to modify the immutable integer (this creates a new object)\n",
        "  immutable_int = immutable_int + 1\n",
        "\n",
        "  print(\"Inside function (after modification):\")\n",
        "  print(\"  mutable_list:\", mutable_list)\n",
        "  print(\"  immutable_int:\", immutable_int)\n",
        "\n",
        "# Create variables to pass to the function\n",
        "my_list = [1, 2, 3, 4]\n",
        "my_int = 10\n",
        "\n",
        "print(\"Outside function (before function call):\")\n",
        "print(\"  my_list:\", my_list)\n",
        "print(\"  my_int:\", my_int)\n",
        "\n",
        "# Call the function\n",
        "modify_arguments(my_list, my_int)\n",
        "\n",
        "print(\"Outside function (after function call):\")\n",
        "print(\"  my_list:\", my_list)\n",
        "print(\"  my_int:\", my_int)"
      ]
    },
    {
      "cell_type": "markdown",
      "metadata": {
        "id": "ZjZbHIXwTwkS"
      },
      "source": [
        "7.  Write a program that performs basic arithmetic operations on two user-input numbers."
      ]
    },
    {
      "cell_type": "code",
      "execution_count": null,
      "metadata": {
        "id": "zB9Y4n9bT2mS"
      },
      "outputs": [],
      "source": []
    },
    {
      "cell_type": "code",
      "execution_count": 2,
      "metadata": {
        "colab": {
          "base_uri": "https://localhost:8080/"
        },
        "id": "63c35f89",
        "outputId": "0a17612c-4192-4ad3-ad1d-6d022cbbb5c4"
      },
      "outputs": [
        {
          "name": "stdout",
          "output_type": "stream",
          "text": [
            "Enter the first number: 23\n",
            "Enter the second number: 45\n",
            "Division: 23.0 / 45.0 = 0.5111111111111111\n",
            "Sum: 23.0 + 45.0 = 68.0\n",
            "Difference: 23.0 - 45.0 = -22.0\n",
            "Product: 23.0 * 45.0 = 1035.0\n"
          ]
        }
      ],
      "source": [
        "try:\n",
        "  # Get input from the user\n",
        "  num1 = float(input(\"Enter the first number: \"))\n",
        "  num2 = float(input(\"Enter the second number: \"))\n",
        "\n",
        "  # Perform basic arithmetic operations\n",
        "  sum_result = num1 + num2\n",
        "  difference_result = num1 - num2\n",
        "  product_result = num1 * num2\n",
        "\n",
        "  # Handle division by zero\n",
        "  if num2 != 0:\n",
        "    division_result = num1 / num2\n",
        "    print(f\"Division: {num1} / {num2} = {division_result}\")\n",
        "  else:\n",
        "    print(\"Cannot divide by zero.\")\n",
        "\n",
        "  # Print the results\n",
        "  print(f\"Sum: {num1} + {num2} = {sum_result}\")\n",
        "  print(f\"Difference: {num1} - {num2} = {difference_result}\")\n",
        "  print(f\"Product: {num1} * {num2} = {product_result}\")\n",
        "\n",
        "except ValueError:\n",
        "  print(\"Invalid input. Please enter numbers only.\")"
      ]
    },
    {
      "cell_type": "code",
      "execution_count": null,
      "metadata": {
        "id": "847yOE_CUR2q"
      },
      "outputs": [],
      "source": []
    },
    {
      "cell_type": "markdown",
      "metadata": {
        "id": "ImLP6F-9UL-3"
      },
      "source": [
        "8. Write a program to demonstrate the use of logical operators."
      ]
    },
    {
      "cell_type": "code",
      "execution_count": 3,
      "metadata": {
        "colab": {
          "base_uri": "https://localhost:8080/"
        },
        "id": "197fe17b",
        "outputId": "11b47fbe-bf3a-42b9-8dff-373b16d3357d"
      },
      "outputs": [
        {
          "name": "stdout",
          "output_type": "stream",
          "text": [
            "Variables: x = 10, y = 5, z = 15\n",
            "\n",
            "Using the 'and' operator:\n",
            "Condition: 10 > 5 and 10 < 15 is True\n",
            "Condition: 10 > 5 and 10 > 15 is False\n",
            "--------------------\n",
            "Using the 'or' operator:\n",
            "Condition: 10 > 5 or 10 < 15 is True\n",
            "Condition: 10 < 5 or 10 > 15 is False\n",
            "--------------------\n",
            "Using the 'not' operator:\n",
            "Condition: 10 > 5 is True\n",
            "Condition: not (10 > 5) is False\n",
            "Condition: 10 < 5 is False\n",
            "Condition: not (10 < 5) is True\n"
          ]
        }
      ],
      "source": [
        "# Demonstrating the use of logical operators\n",
        "\n",
        "# Define some variables\n",
        "x = 10\n",
        "y = 5\n",
        "z = 15\n",
        "\n",
        "print(f\"Variables: x = {x}, y = {y}, z = {z}\\n\")\n",
        "\n",
        "# Using the 'and' operator\n",
        "print(\"Using the 'and' operator:\")\n",
        "if x > y and x < z:\n",
        "  print(f\"Condition: {x} > {y} and {x} < {z} is True\")\n",
        "else:\n",
        "  print(f\"Condition: {x} > {y} and {x} < {z} is False\")\n",
        "\n",
        "if x > y and x > z:\n",
        "  print(f\"Condition: {x} > {y} and {x} > {z} is True\")\n",
        "else:\n",
        "  print(f\"Condition: {x} > {y} and {x} > {z} is False\")\n",
        "\n",
        "print(\"-\" * 20) # Separator\n",
        "\n",
        "# Using the 'or' operator\n",
        "print(\"Using the 'or' operator:\")\n",
        "if x > y or x < z:\n",
        "  print(f\"Condition: {x} > {y} or {x} < {z} is True\")\n",
        "else:\n",
        "  print(f\"Condition: {x} > {y} or {x} < {z} is False\")\n",
        "\n",
        "if x < y or x > z:\n",
        "  print(f\"Condition: {x} < {y} or {x} > {z} is True\")\n",
        "else:\n",
        "  print(f\"Condition: {x} < {y} or {x} > {z} is False\")\n",
        "\n",
        "print(\"-\" * 20) # Separator\n",
        "\n",
        "# Using the 'not' operator\n",
        "print(\"Using the 'not' operator:\")\n",
        "is_true = (x > y)\n",
        "print(f\"Condition: {x} > {y} is {is_true}\")\n",
        "print(f\"Condition: not ({x} > {y}) is {not (x > y)}\")\n",
        "\n",
        "is_false = (x < y)\n",
        "print(f\"Condition: {x} < {y} is {is_false}\")\n",
        "print(f\"Condition: not ({x} < {y}) is {not (x < y)}\")"
      ]
    },
    {
      "cell_type": "markdown",
      "metadata": {
        "id": "rAj4PtpMUigG"
      },
      "source": [
        "9. Write a Python program to convert user input from string to integer, float, and boolean types."
      ]
    },
    {
      "cell_type": "code",
      "execution_count": null,
      "metadata": {
        "id": "ma-PlYmsUvEb"
      },
      "outputs": [],
      "source": []
    },
    {
      "cell_type": "code",
      "execution_count": 4,
      "metadata": {
        "colab": {
          "base_uri": "https://localhost:8080/"
        },
        "id": "6de2845e",
        "outputId": "98e70682-b742-41e2-93c2-d0bc3cd3c598"
      },
      "outputs": [
        {
          "name": "stdout",
          "output_type": "stream",
          "text": [
            "Enter a value: 54\n",
            "Converted to integer: 54 (Type: <class 'int'>)\n",
            "Converted to float: 54.0 (Type: <class 'float'>)\n",
            "Converted to boolean using bool(): True (Type: <class 'bool'>)\n",
            "Input '54' is not 'true' or 'false' for specific boolean conversion.\n"
          ]
        }
      ],
      "source": [
        "# Get input from the user as a string\n",
        "user_input_string = input(\"Enter a value: \")\n",
        "\n",
        "# Convert to integer\n",
        "try:\n",
        "  int_value = int(user_input_string)\n",
        "  print(f\"Converted to integer: {int_value} (Type: {type(int_value)})\")\n",
        "except ValueError:\n",
        "  print(f\"Could not convert '{user_input_string}' to integer.\")\n",
        "\n",
        "# Convert to float\n",
        "try:\n",
        "  float_value = float(user_input_string)\n",
        "  print(f\"Converted to float: {float_value} (Type: {type(float_value)})\")\n",
        "except ValueError:\n",
        "  print(f\"Could not convert '{user_input_string}' to float.\")\n",
        "\n",
        "# Convert to boolean\n",
        "# Note: The bool() function in Python converts empty strings, 0, None, and empty sequences/collections to False,\n",
        "# and everything else to True. For more specific boolean conversion (e.g., \"True\" to True, \"False\" to False),\n",
        "# you might need additional logic.\n",
        "bool_value = bool(user_input_string)\n",
        "print(f\"Converted to boolean using bool(): {bool_value} (Type: {type(bool_value)})\")\n",
        "\n",
        "# More specific boolean conversion for \"True\" and \"False\" strings\n",
        "if user_input_string.lower() == 'true':\n",
        "    specific_bool_value = True\n",
        "    print(f\"Specific conversion for 'true': {specific_bool_value} (Type: {type(specific_bool_value)})\")\n",
        "elif user_input_string.lower() == 'false':\n",
        "    specific_bool_value = False\n",
        "    print(f\"Specific conversion for 'false': {specific_bool_value} (Type: {type(specific_bool_value)})\")\n",
        "else:\n",
        "    print(f\"Input '{user_input_string}' is not 'true' or 'false' for specific boolean conversion.\")"
      ]
    },
    {
      "cell_type": "markdown",
      "metadata": {
        "id": "L9Rwnf4-U9U4"
      },
      "source": [
        "10. Write code to demonstrate type casting with list elements."
      ]
    },
    {
      "cell_type": "code",
      "execution_count": null,
      "metadata": {
        "id": "A17e_wbbVDJS"
      },
      "outputs": [],
      "source": []
    },
    {
      "cell_type": "code",
      "execution_count": 5,
      "metadata": {
        "colab": {
          "base_uri": "https://localhost:8080/"
        },
        "id": "c0dfbde3",
        "outputId": "0ef64873-7ee9-4030-d37a-304a41becf71"
      },
      "outputs": [
        {
          "name": "stdout",
          "output_type": "stream",
          "text": [
            "Original list: ['123', 456, 78.9, 'True', 'False', 'hello']\n",
            "------------------------------\n",
            "Attempting to cast list elements:\n",
            "\n",
            "Processing item: 123 (Type: <class 'str'>)\n",
            "  Casted to integer: 123 (Type: <class 'int'>)\n",
            "  Casted to float: 123.0 (Type: <class 'float'>)\n",
            "  Casted to boolean using bool(): True (Type: <class 'bool'>)\n",
            "  Input '123' is not 'true' or 'false' for specific boolean conversion.\n",
            "\n",
            "Processing item: 456 (Type: <class 'int'>)\n",
            "  Casted to integer: 456 (Type: <class 'int'>)\n",
            "  Casted to float: 456.0 (Type: <class 'float'>)\n",
            "  Casted to boolean using bool(): True (Type: <class 'bool'>)\n",
            "\n",
            "Processing item: 78.9 (Type: <class 'float'>)\n",
            "  Casted to integer: 78 (Type: <class 'int'>)\n",
            "  Casted to float: 78.9 (Type: <class 'float'>)\n",
            "  Casted to boolean using bool(): True (Type: <class 'bool'>)\n",
            "\n",
            "Processing item: True (Type: <class 'str'>)\n",
            "  Could not cast 'True' to integer.\n",
            "  Could not cast 'True' to float.\n",
            "  Casted to boolean using bool(): True (Type: <class 'bool'>)\n",
            "  Specific conversion for 'true': True (Type: <class 'bool'>)\n",
            "\n",
            "Processing item: False (Type: <class 'str'>)\n",
            "  Could not cast 'False' to integer.\n",
            "  Could not cast 'False' to float.\n",
            "  Casted to boolean using bool(): True (Type: <class 'bool'>)\n",
            "  Specific conversion for 'false': False (Type: <class 'bool'>)\n",
            "\n",
            "Processing item: hello (Type: <class 'str'>)\n",
            "  Could not cast 'hello' to integer.\n",
            "  Could not cast 'hello' to float.\n",
            "  Casted to boolean using bool(): True (Type: <class 'bool'>)\n",
            "  Input 'hello' is not 'true' or 'false' for specific boolean conversion.\n"
          ]
        }
      ],
      "source": [
        "# Create a list with elements of different types\n",
        "my_list = [\"123\", 456, 78.9, \"True\", \"False\", \"hello\"]\n",
        "\n",
        "print(\"Original list:\", my_list)\n",
        "print(\"-\" * 30)\n",
        "\n",
        "# Demonstrate type casting with list elements\n",
        "print(\"Attempting to cast list elements:\")\n",
        "\n",
        "for item in my_list:\n",
        "  print(f\"\\nProcessing item: {item} (Type: {type(item)})\")\n",
        "\n",
        "  # Attempt to cast to integer\n",
        "  try:\n",
        "    int_item = int(item)\n",
        "    print(f\"  Casted to integer: {int_item} (Type: {type(int_item)})\")\n",
        "  except (ValueError, TypeError):\n",
        "    print(f\"  Could not cast '{item}' to integer.\")\n",
        "\n",
        "  # Attempt to cast to float\n",
        "  try:\n",
        "    float_item = float(item)\n",
        "    print(f\"  Casted to float: {float_item} (Type: {type(float_item)})\")\n",
        "  except (ValueError, TypeError):\n",
        "    print(f\"  Could not cast '{item}' to float.\")\n",
        "  bool_item = bool(item)\n",
        "  print(f\"  Casted to boolean using bool(): {bool_item} (Type: {type(bool_item)})\")\n",
        "  if isinstance(item, str):\n",
        "      if item.lower() == 'true':\n",
        "          specific_bool_item = True\n",
        "          print(f\"  Specific conversion for 'true': {specific_bool_item} (Type: {type(specific_bool_item)})\")\n",
        "      elif item.lower() == 'false':\n",
        "          specific_bool_item = False\n",
        "          print(f\"  Specific conversion for 'false': {specific_bool_item} (Type: {type(specific_bool_item)})\")\n",
        "      else:\n",
        "          print(f\"  Input '{item}' is not 'true' or 'false' for specific boolean conversion.\")"
      ]
    },
    {
      "cell_type": "markdown",
      "metadata": {
        "id": "nB7Sg8kmVckq"
      },
      "source": [
        "11. Write a program that checks if a number is positive, negative, or zero."
      ]
    },
    {
      "cell_type": "code",
      "execution_count": null,
      "metadata": {
        "id": "Zl7nEpukVjf7"
      },
      "outputs": [],
      "source": []
    },
    {
      "cell_type": "code",
      "execution_count": 6,
      "metadata": {
        "colab": {
          "base_uri": "https://localhost:8080/"
        },
        "id": "caa2cb3d",
        "outputId": "110d7ee4-60fa-42bc-fa9b-058f7387c09d"
      },
      "outputs": [
        {
          "name": "stdout",
          "output_type": "stream",
          "text": [
            "Enter a number: 98\n",
            "The number 98.0 is positive.\n"
          ]
        }
      ],
      "source": [
        "try:\n",
        "  # Get input from the user and convert to a number\n",
        "  num = float(input(\"Enter a number: \"))\n",
        "\n",
        "  # Check if the number is positive, negative, or zero\n",
        "  if num > 0:\n",
        "    print(f\"The number {num} is positive.\")\n",
        "  elif num < 0:\n",
        "    print(f\"The number {num} is negative.\")\n",
        "  else:\n",
        "    print(f\"The number {num} is zero.\")\n",
        "\n",
        "except ValueError:\n",
        "  print(\"Invalid input. Please enter a valid number.\")"
      ]
    },
    {
      "cell_type": "markdown",
      "metadata": {
        "id": "XQQbPcAsWIsH"
      },
      "source": [
        "12. Write a for loop to print numbers from 1 to 10."
      ]
    },
    {
      "cell_type": "code",
      "execution_count": 7,
      "metadata": {
        "colab": {
          "base_uri": "https://localhost:8080/"
        },
        "id": "4eedafa9",
        "outputId": "9dca9510-cfc5-4fef-cdbd-da1a7e2e9c5f"
      },
      "outputs": [
        {
          "name": "stdout",
          "output_type": "stream",
          "text": [
            "1\n",
            "2\n",
            "3\n",
            "4\n",
            "5\n",
            "6\n",
            "7\n",
            "8\n",
            "9\n",
            "10\n"
          ]
        }
      ],
      "source": [
        "\n",
        "for i in range(1, 11):\n",
        "  print(i)"
      ]
    },
    {
      "cell_type": "markdown",
      "metadata": {
        "id": "cjqt1QDlWcUc"
      },
      "source": [
        "13.  Write a Python program to find the sum of all even numbers between 1 and 50.\n"
      ]
    },
    {
      "cell_type": "code",
      "execution_count": null,
      "metadata": {
        "id": "HQG8ncMjWkQM"
      },
      "outputs": [],
      "source": []
    },
    {
      "cell_type": "code",
      "execution_count": 8,
      "metadata": {
        "colab": {
          "base_uri": "https://localhost:8080/"
        },
        "id": "22dfeb40",
        "outputId": "1f6d3802-c17b-44c8-ba35-2025985827f2"
      },
      "outputs": [
        {
          "name": "stdout",
          "output_type": "stream",
          "text": [
            "The sum of all even numbers between 1 and 50 is: 650\n"
          ]
        }
      ],
      "source": [
        "# Initialize a variable to store the sum\n",
        "sum_of_evens = 0\n",
        "\n",
        "# Iterate through numbers from 1 to 50\n",
        "for number in range(1, 51):\n",
        "  # Check if the number is even\n",
        "  if number % 2 == 0:\n",
        "    # Add the even number to the sum\n",
        "    sum_of_evens += number\n",
        "\n",
        "# Print the result\n",
        "print(f\"The sum of all even numbers between 1 and 50 is: {sum_of_evens}\")"
      ]
    },
    {
      "cell_type": "markdown",
      "metadata": {
        "id": "h4GMIpI_WssC"
      },
      "source": [
        "14. Write a program to reverse a string using a while loop."
      ]
    },
    {
      "cell_type": "code",
      "execution_count": 9,
      "metadata": {
        "colab": {
          "base_uri": "https://localhost:8080/"
        },
        "id": "e6136669",
        "outputId": "4e2359ee-d59d-4c8f-f636-3b2d07ccfb12"
      },
      "outputs": [
        {
          "name": "stdout",
          "output_type": "stream",
          "text": [
            "Enter a string to reverse: 100\n",
            "The original string is: 100\n",
            "The reversed string is: 001\n"
          ]
        }
      ],
      "source": [
        "# Get input string from the user (or define one)\n",
        "input_string = input(\"Enter a string to reverse: \")\n",
        "\n",
        "# Initialize variables for reversal\n",
        "reversed_string = \"\"\n",
        "index = len(input_string) - 1  # Start from the last index\n",
        "\n",
        "# Use a while loop to reverse the string\n",
        "while index >= 0:\n",
        "  reversed_string += input_string[index]\n",
        "  index -= 1\n",
        "\n",
        "# Print the reversed string\n",
        "print(f\"The original string is: {input_string}\")\n",
        "print(f\"The reversed string is: {reversed_string}\")"
      ]
    },
    {
      "cell_type": "markdown",
      "metadata": {
        "id": "ptr7CjpOXAAh"
      },
      "source": [
        "15.  Write a Python program to calculate the factorial of a number provided by the user using a while loop."
      ]
    },
    {
      "cell_type": "code",
      "execution_count": null,
      "metadata": {
        "id": "STigAfM1XHI5"
      },
      "outputs": [],
      "source": []
    },
    {
      "cell_type": "code",
      "execution_count": 10,
      "metadata": {
        "colab": {
          "base_uri": "https://localhost:8080/"
        },
        "id": "58c65e73",
        "outputId": "6e0f29c8-64a5-4558-a8d8-c4ab88b4380e"
      },
      "outputs": [
        {
          "name": "stdout",
          "output_type": "stream",
          "text": [
            "Enter a non-negative integer to calculate its factorial: 5\n",
            "The factorial of 5 is: 120\n"
          ]
        }
      ],
      "source": [
        "try:\n",
        "  # Get input from the user\n",
        "  num = int(input(\"Enter a non-negative integer to calculate its factorial: \"))\n",
        "\n",
        "  # Check if the number is negative\n",
        "  if num < 0:\n",
        "    print(\"Factorial is not defined for negative numbers.\")\n",
        "  elif num == 0:\n",
        "    print(\"The factorial of 0 is 1.\")\n",
        "  else:\n",
        "    # Initialize factorial and counter\n",
        "    factorial = 1\n",
        "    count = 1\n",
        "\n",
        "    # Use a while loop to calculate the factorial\n",
        "    while count <= num:\n",
        "      factorial *= count\n",
        "      count += 1\n",
        "\n",
        "    print(f\"The factorial of {num} is: {factorial}\")\n",
        "\n",
        "except ValueError:\n",
        "  print(\"Invalid input. Please enter a non-negative integer.\")"
      ]
    }
  ],
  "metadata": {
    "colab": {
      "provenance": []
    },
    "kernelspec": {
      "display_name": "Python 3",
      "name": "python3"
    },
    "language_info": {
      "name": "python"
    }
  },
  "nbformat": 4,
  "nbformat_minor": 0
}
